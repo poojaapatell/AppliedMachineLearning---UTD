{
 "cells": [
  {
   "cell_type": "markdown",
   "metadata": {},
   "source": [
    "# Assignment 1\n",
    "## Applied Machine Learning (BUAN 6341)\n"
   ]
  },
  {
   "cell_type": "markdown",
   "metadata": {},
   "source": [
    "Deliverables:\n",
    "\n",
    "- Submit your answers to conceptual questions (described in another .pdf file) in a pdf file.\n",
    "- Write down your codes and discussions in the given cells described in this file.\n",
    "    - Cells for coding are denoted as \"YOUR CODE HERE\" \n",
    "    - Cells for discussions are denoted as \"YOUR DISCUSSIONS HERE\". Include \"#\" before each line of your discussions to comment out your wordings (i.e., not considered as code).\n",
    "    - If you need more cells to check temporary results, add a cell using the \"+\" button or shortcut \"esc + b\".\n",
    "- Submit three files: .pdf, .ipynb, and .html to eLearning.\n",
    "    - Hint: to obtain .html from Jupyter Notebook, go to File => Download As => HTML (Recommended method)\n",
    "    - Alternatively, to get .html, go to File => Print Preview. Then in the preview page, right click => Save as => In the Save as type, choose \"HTML Only\"\n"
   ]
  },
  {
   "cell_type": "code",
   "execution_count": 1,
   "metadata": {},
   "outputs": [],
   "source": [
    "NAME = \"Pooja Patel\""
   ]
  },
  {
   "cell_type": "markdown",
   "metadata": {},
   "source": [
    "### Meet the Data and the Setting\n",
    "\n",
    "##### Background  \n",
    "Bike sharing systems are new generation of traditional bike rentals where whole process from membership, rental and return back has become automatic. Currently, there are about over 500 bike-sharing programs around the world which is composed of over 500 thousands bicycles.\n",
    "\n",
    "##### The Dataset\n",
    "\n",
    "We will be using the daily version of the Capital Bikeshare System dataset from the UCI Machine Learning Repository. This data set contains information about the daily count of bike rental checkouts in Washington, D.C.’s bikeshare program between 2011 and 2012. It also includes information about the weather and seasonal/temporal features for that day (like whether it was a weekday).\n",
    "- **day:** Day of the record (relative to day 1:2011-01-01)\n",
    "- **season:** Season (1:spring, 2:summer, 3:fall, 4:winter)\n",
    "- **weekday:** Day of the week (0=Sunday, 6=Saturday)\n",
    "- **workingday:** If day is neither weekend nor holiday is 1, otherwise is 0.\n",
    "- **weathersit:**<br>\n",
    "    - 1: Clear, Few clouds, Partly cloudy, Partly cloudy\n",
    "    - 2: Mist + Cloudy, Mist + Broken clouds, Mist + Few clouds, Mist\n",
    "    - 3: Light Snow, Light Rain + Thunderstorm + Scattered clouds, Light Rain + Scattered\n",
    "clouds\n",
    "- **temp:** Normalized temperature in Celcius\n",
    "- **windspeed:** Normalized wind speed\n",
    "- **casual:** Count of checkouts by casual/non-registered users\n",
    "- **registered:** Count of checkouts by registered users\n",
    "- **cnt:** Total checkouts\n",
    "\n",
    "##### Practice Prep\n",
    "The cells below imports basic packages as well as the bike-sharing dataset. The original dataset is loaded as Pandas DataFrame, and is named as 'daily'. Run and read through the cells below to obtain a general understanding of the data."
   ]
  },
  {
   "cell_type": "code",
   "execution_count": 16,
   "metadata": {},
   "outputs": [],
   "source": [
    "%matplotlib inline \n",
    "import numpy as np\n",
    "import pandas as pd\n",
    "import sklearn\n",
    "import matplotlib.pyplot as plt\n",
    "import seaborn as sns\n",
    "\n",
    "import warnings\n",
    "warnings.filterwarnings('ignore')"
   ]
  },
  {
   "cell_type": "code",
   "execution_count": 17,
   "metadata": {},
   "outputs": [
    {
     "data": {
      "text/html": [
       "<div>\n",
       "<style scoped>\n",
       "    .dataframe tbody tr th:only-of-type {\n",
       "        vertical-align: middle;\n",
       "    }\n",
       "\n",
       "    .dataframe tbody tr th {\n",
       "        vertical-align: top;\n",
       "    }\n",
       "\n",
       "    .dataframe thead th {\n",
       "        text-align: right;\n",
       "    }\n",
       "</style>\n",
       "<table border=\"1\" class=\"dataframe\">\n",
       "  <thead>\n",
       "    <tr style=\"text-align: right;\">\n",
       "      <th></th>\n",
       "      <th>day</th>\n",
       "      <th>season</th>\n",
       "      <th>weekday</th>\n",
       "      <th>workingday</th>\n",
       "      <th>weathersit</th>\n",
       "      <th>temp</th>\n",
       "      <th>windspeed</th>\n",
       "      <th>casual</th>\n",
       "      <th>registered</th>\n",
       "      <th>cnt</th>\n",
       "    </tr>\n",
       "  </thead>\n",
       "  <tbody>\n",
       "    <tr>\n",
       "      <th>0</th>\n",
       "      <td>1</td>\n",
       "      <td>1</td>\n",
       "      <td>6</td>\n",
       "      <td>0</td>\n",
       "      <td>2</td>\n",
       "      <td>0.344167</td>\n",
       "      <td>0.160446</td>\n",
       "      <td>331</td>\n",
       "      <td>654</td>\n",
       "      <td>985</td>\n",
       "    </tr>\n",
       "    <tr>\n",
       "      <th>1</th>\n",
       "      <td>2</td>\n",
       "      <td>1</td>\n",
       "      <td>0</td>\n",
       "      <td>0</td>\n",
       "      <td>2</td>\n",
       "      <td>0.363478</td>\n",
       "      <td>0.248539</td>\n",
       "      <td>131</td>\n",
       "      <td>670</td>\n",
       "      <td>801</td>\n",
       "    </tr>\n",
       "    <tr>\n",
       "      <th>2</th>\n",
       "      <td>3</td>\n",
       "      <td>1</td>\n",
       "      <td>1</td>\n",
       "      <td>1</td>\n",
       "      <td>1</td>\n",
       "      <td>0.196364</td>\n",
       "      <td>0.248309</td>\n",
       "      <td>120</td>\n",
       "      <td>1229</td>\n",
       "      <td>1349</td>\n",
       "    </tr>\n",
       "    <tr>\n",
       "      <th>3</th>\n",
       "      <td>4</td>\n",
       "      <td>1</td>\n",
       "      <td>2</td>\n",
       "      <td>1</td>\n",
       "      <td>1</td>\n",
       "      <td>0.200000</td>\n",
       "      <td>0.160296</td>\n",
       "      <td>108</td>\n",
       "      <td>1454</td>\n",
       "      <td>1562</td>\n",
       "    </tr>\n",
       "    <tr>\n",
       "      <th>4</th>\n",
       "      <td>5</td>\n",
       "      <td>1</td>\n",
       "      <td>3</td>\n",
       "      <td>1</td>\n",
       "      <td>1</td>\n",
       "      <td>0.226957</td>\n",
       "      <td>0.186900</td>\n",
       "      <td>82</td>\n",
       "      <td>1518</td>\n",
       "      <td>1600</td>\n",
       "    </tr>\n",
       "  </tbody>\n",
       "</table>\n",
       "</div>"
      ],
      "text/plain": [
       "   day  season  weekday  workingday  weathersit      temp  windspeed  casual  \\\n",
       "0    1       1        6           0           2  0.344167   0.160446     331   \n",
       "1    2       1        0           0           2  0.363478   0.248539     131   \n",
       "2    3       1        1           1           1  0.196364   0.248309     120   \n",
       "3    4       1        2           1           1  0.200000   0.160296     108   \n",
       "4    5       1        3           1           1  0.226957   0.186900      82   \n",
       "\n",
       "   registered   cnt  \n",
       "0         654   985  \n",
       "1         670   801  \n",
       "2        1229  1349  \n",
       "3        1454  1562  \n",
       "4        1518  1600  "
      ]
     },
     "execution_count": 17,
     "metadata": {},
     "output_type": "execute_result"
    }
   ],
   "source": [
    "import pandas as pd\n",
    "daily = pd.read_csv(\"day.csv\")\n",
    "daily.head()"
   ]
  },
  {
   "cell_type": "code",
   "execution_count": 18,
   "metadata": {},
   "outputs": [
    {
     "name": "stdout",
     "output_type": "stream",
     "text": [
      "Index(['day', 'season', 'weekday', 'workingday', 'weathersit', 'temp',\n",
      "       'windspeed', 'casual', 'registered', 'cnt'],\n",
      "      dtype='object')\n"
     ]
    }
   ],
   "source": [
    "print(daily.columns)"
   ]
  },
  {
   "cell_type": "markdown",
   "metadata": {},
   "source": [
    "**Question 1 : Getting Insights from Visualization. (10 pts)**\n",
    "\n",
    "The block of code below helps to visualize **the daily count of bikes that were checked out by casual users (y)** against **temperature (x)**. The figure uses color to specify whether a day is a working day (yellow) or a non-working day (purple). "
   ]
  },
  {
   "cell_type": "code",
   "execution_count": 19,
   "metadata": {},
   "outputs": [
    {
     "data": {
      "image/png": "[encoded data removed]",
      "text/plain": [
       "<Figure size 432x288 with 2 Axes>"
      ]
     },
     "metadata": {
      "needs_background": "light"
     },
     "output_type": "display_data"
    }
   ],
   "source": [
    "## CODE FOR VISUALIZATION - DO NOT MODIFY ##\n",
    "\n",
    "x = daily['temp']\n",
    "y = daily['casual']\n",
    "cat = daily['workingday']\n",
    "plt.scatter(x,y, c = cat, alpha = 0.7)\n",
    "plt.xlabel('Temperature')\n",
    "plt.ylabel('Casual Users')\n",
    "cbar = plt.colorbar(ticks=[0, 1])"
   ]
  },
  {
   "cell_type": "markdown",
   "metadata": {},
   "source": [
    "## Regression\n",
    "\n",
    "In this section, you are supposed to complete THREE regression models, some in conjunction with grid search and CV. First, run the cells below to complete the data splitting step. "
   ]
  },
  {
   "cell_type": "code",
   "execution_count": 20,
   "metadata": {},
   "outputs": [],
   "source": [
    "# Define X and y\n",
    "var = ['temp','windspeed','season', 'weekday', 'workingday', 'weathersit']\n",
    "X = daily[var]\n",
    "y = daily['cnt']"
   ]
  },
  {
   "cell_type": "code",
   "execution_count": 21,
   "metadata": {},
   "outputs": [],
   "source": [
    "# Data splitting for training and test set\n",
    "from sklearn.model_selection import train_test_split\n",
    "X_train, X_test, y_train, y_test = train_test_split(X, y, random_state=42)"
   ]
  },
  {
   "cell_type": "markdown",
   "metadata": {},
   "source": [
    "**Question 2: Linear Regression (30 pts)**\n",
    "\n",
    "- Train a linear regression model. Report and specify clearly the estimated coefficients and intercept.   \n",
    "  *Hint: use print function to specify the result reported is the intercept.*\n",
    "- Obtain the predicted y for (1) test set and (2) training set. Store the results properly.\n",
    "- Calculate and use print function to report (1) the MSE for test set and (2) the MSE for training set."
   ]
  },
  {
   "cell_type": "code",
   "execution_count": 22,
   "metadata": {},
   "outputs": [
    {
     "name": "stdout",
     "output_type": "stream",
     "text": [
      "Coef: [ 5245.4857 -1995.7357   412.6628    76.7743   132.2098  -800.6094]\n",
      "Intercept: 2093.4087280168687\n"
     ]
    },
    {
     "data": {
      "text/plain": [
       "(None, None)"
      ]
     },
     "execution_count": 22,
     "metadata": {},
     "output_type": "execute_result"
    }
   ],
   "source": [
    "# Train the model and report coefficients\n",
    "# YOUR CODE HERE \n",
    "from sklearn.linear_model import LinearRegression\n",
    "model = LinearRegression()\n",
    "\n",
    "model.fit(X_train, y_train)\n",
    "\n",
    "np.set_printoptions(precision=4, suppress=True)\n",
    "print(\"Coef:\", model.coef_), print(\"Intercept:\",np.array(model.intercept_))\n"
   ]
  },
  {
   "cell_type": "code",
   "execution_count": 23,
   "metadata": {},
   "outputs": [],
   "source": [
    "## Predict y for training and test set\n",
    "# YOUR CODE HERE\n",
    "\n",
    "y_test_pred = model.predict(X_test)\n",
    "\n",
    "y_train_pred = model.predict(X_train)\n"
   ]
  },
  {
   "cell_type": "code",
   "execution_count": 24,
   "metadata": {},
   "outputs": [
    {
     "name": "stdout",
     "output_type": "stream",
     "text": [
      "Test MSE:  1816812.3742340647\n",
      "Train MSE:  1852849.4373569074\n"
     ]
    }
   ],
   "source": [
    "## Calculate and report the MSE for training and test\n",
    "# YOUR CODE HERE\n",
    "\n",
    "e = y_test - y_test_pred\n",
    "\n",
    "MSE_test = np.mean(e**2)\n",
    "print(\"Test MSE: \", MSE_test)\n",
    "\n",
    "e_train = y_train - y_train_pred\n",
    "MSE_train = np.mean(e_train**2)\n",
    "print(\"Train MSE: \", MSE_train)\n"
   ]
  },
  {
   "cell_type": "markdown",
   "metadata": {},
   "source": [
    "**Question 3: Polynomial Regression (20 pts)**\n",
    "\n",
    "- Train a Polynomial regression model with grid search and 10-fold cross-validation. Let the grid of the hyperparameter be: [1,2,3]. Leave other parameters as default.\n",
    "- Report the hyperparameter chosen (i.e., the degree selected) and the mean of validation score of the chosen model.\n",
    "- Obtain the chosen model's unbiased performance (based on default measure, R-squared)."
   ]
  },
  {
   "cell_type": "code",
   "execution_count": 25,
   "metadata": {},
   "outputs": [
    {
     "name": "stdout",
     "output_type": "stream",
     "text": [
      "\n",
      "Hyperparameter chosen:  {'polynomialfeatures__degree': 1}\n",
      "Mean Validation Score:  0.46151790928788133\n",
      "Unbiased performance:  0.5285823895780062\n"
     ]
    }
   ],
   "source": [
    "# Train the model, and report the results\n",
    "# YOUR CODE HERE\n",
    "from sklearn.model_selection import GridSearchCV\n",
    "\n",
    "from sklearn.preprocessing  import PolynomialFeatures\n",
    "from sklearn.pipeline import make_pipeline\n",
    "from sklearn.linear_model import LinearRegression\n",
    "\n",
    "param_poly = {'polynomialfeatures__degree' :  range(1,4)  }\n",
    "param_poly = { 'polynomialfeatures__degree' : [1, 2, 3] }\n",
    "\n",
    "grid_poly = PolynomialFeatures()\n",
    "grid_lr = LinearRegression()\n",
    "pipe_grid = make_pipeline( grid_poly, grid_lr )\n",
    "\n",
    "\n",
    "grid_poly_reg = GridSearchCV( pipe_grid , param_poly , cv = 10)\n",
    "grid_poly_reg.fit(X_train, y_train)\n",
    "\n",
    "print()\n",
    "print(\"Hyperparameter chosen: \",grid_poly_reg.best_params_)\n",
    "print(\"Mean Validation Score: \", grid_poly_reg.best_score_)\n",
    "print(\"Unbiased performance: \", grid_poly_reg.score(X_test, y_test))\n",
    "\n"
   ]
  },
  {
   "cell_type": "markdown",
   "metadata": {},
   "source": [
    "**Question 4: Ridge Regression (20 pts)** \n",
    "\n",
    "- Train a Ridge regression model with grid search and 10-fold cross-validation. Let the grid of the hyperparameter be: [0.01,0.1,1,10]. Leave other parameters as default.\n",
    "- Report the hyperparameter chosen and the mean of validation score of the chosen model.\n",
    "- Obtain the chosen model's unbiased performance (based on default measure, R-squared).\n",
    "- Report the coefficient of the chosen model (including the intercept)."
   ]
  },
  {
   "cell_type": "code",
   "execution_count": 26,
   "metadata": {},
   "outputs": [
    {
     "name": "stdout",
     "output_type": "stream",
     "text": [
      "Hyperparameter:  {'alpha': 0.1}\n",
      "Mean Validation Score:  0.4616657974382356\n",
      "Unbiased Performance Measure:  0.5279997473021947\n",
      "Coefficient:  [ 5214.785  -1938.8546   415.2188    76.7825   133.117   -801.9327]\n",
      "Intercept:  2092.845844722562\n"
     ]
    }
   ],
   "source": [
    "## YOUR CODE HERE - Train the model and report the results\n",
    "from sklearn.linear_model import Ridge\n",
    "from sklearn.model_selection import GridSearchCV\n",
    "\n",
    "\n",
    "para_ridge = {'alpha' :  [0.01, 0.1, 1, 10]}  \n",
    "\n",
    "ridge = Ridge()\n",
    "grid_ridge_reg = GridSearchCV(ridge, param_ridge, cv=10)\n",
    "grid_ridge_reg.fit(X_train, y_train)\n",
    "\n",
    "\n",
    "print(\"Hyperparameter: \", grid_ridge_reg.best_params_)\n",
    "print(\"Mean Validation Score: \",grid_ridge_reg.best_score_)\n",
    "print(\"Unbiased Performance Measure: \", grid_ridge_reg.score(X_test, y_test))\n",
    "print(\"Coefficient: \", grid_ridge_reg.best_estimator_.coef_)\n",
    "print(\"Intercept: \", grid_ridge_reg.best_estimator_.intercept_)\n"
   ]
  },
  {
   "cell_type": "code",
   "execution_count": null,
   "metadata": {},
   "outputs": [],
   "source": []
  }
 ],
 "metadata": {
  "kernelspec": {
   "display_name": "Python 3",
   "language": "python",
   "name": "python3"
  },
  "language_info": {
   "codemirror_mode": {
    "name": "ipython",
    "version": 3
   },
   "file_extension": ".py",
   "mimetype": "text/x-python",
   "name": "python",
   "nbconvert_exporter": "python",
   "pygments_lexer": "ipython3",
   "version": "3.8.5"
  }
 },
 "nbformat": 4,
 "nbformat_minor": 2
}

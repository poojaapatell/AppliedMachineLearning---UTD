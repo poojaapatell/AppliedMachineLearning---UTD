{
 "cells": [
  {
   "cell_type": "markdown",
   "metadata": {},
   "source": [
    "Deliverables:\n",
    "\n",
    "- Write down your codes in the given cells described in this file, denoted as \"YOUR CODE HERE\"\n",
    "- Write down your discussion in the given cells, denoted as \"YOUR DISCUSSION HERE\"\n",
    "- Submit two files: .ipynb and .html file to eLearning. Both files should include (1) Your code, and (2) the output of the code.\n",
    "- There is no conceptual problem for this assignment.\n",
    "\n",
    "The total score of the implementation part is: 100"
   ]
  },
  {
   "cell_type": "code",
   "execution_count": 1,
   "metadata": {},
   "outputs": [],
   "source": [
    "NAME = \"Pooja Patel\""
   ]
  },
  {
   "cell_type": "code",
   "execution_count": 3,
   "metadata": {},
   "outputs": [],
   "source": [
    "%matplotlib inline \n",
    "import numpy as np\n",
    "import matplotlib.pyplot as plt\n",
    "\n",
    "import warnings\n",
    "warnings.filterwarnings('ignore')"
   ]
  },
  {
   "cell_type": "markdown",
   "metadata": {},
   "source": [
    "### The MNIST Dataset\n",
    "\n",
    "The famous MNIST (hand-written digits) dataset contains 60,000 hand-written digit pictures (grayscale), each cut into 28 * 28 grids. It has been broadly applied to examine the performance of classification, clustering, and deep learning algorithms. The original dataset can be loaded using syntax: keras.datasets.mnist.load_data.\n",
    "\n",
    "In this assignment, we will use a simplified version of this dataset, which contains 1797 hand-written digit pictures (grayscale), each cut in 8 * 8 grids. This simplified dataset reduces computation complexity. The simplified dataset can be loaded using: sklearn.datasets.load_digits.\n",
    "\n",
    "Run the cell below to (1) load the data and get a brief overview of it; (2) plot some of the pictures to get an intuitive understanding; and (3) split the data."
   ]
  },
  {
   "cell_type": "code",
   "execution_count": 4,
   "metadata": {},
   "outputs": [
    {
     "name": "stdout",
     "output_type": "stream",
     "text": [
      "Keys of MNIST datset: dict_keys(['data', 'target', 'frame', 'feature_names', 'target_names', 'images', 'DESCR'])\n",
      "Total number of records: 1797\n",
      "Number of features: 64\n",
      "Records will be classified into these classes: [0 1 2 3 4 5 6 7 8 9]\n"
     ]
    }
   ],
   "source": [
    "# Loading Data\n",
    "from sklearn.datasets import load_digits\n",
    "mnist = load_digits()\n",
    "print(\"Keys of MNIST datset:\", mnist.keys())\n",
    "\n",
    "print(\"Total number of records:\", mnist.data.shape[0])\n",
    "print(\"Number of features:\", mnist.data.shape[1])\n",
    "print(\"Records will be classified into these classes:\", mnist.target_names)"
   ]
  },
  {
   "cell_type": "code",
   "execution_count": 5,
   "metadata": {},
   "outputs": [
    {
     "data": {
      "image/png": "[encoded data removed]",
      "text/plain": [
       "<Figure size 1152x432 with 10 Axes>"
      ]
     },
     "metadata": {
      "needs_background": "light"
     },
     "output_type": "display_data"
    }
   ],
   "source": [
    "fig, axes = plt.subplots(2, 5, figsize=(16, 6))\n",
    "for i in range(10):\n",
    "    axes[i//5, i %5].imshow(mnist.images[i], cmap='gray');\n",
    "    axes[i//5, i %5].axis('off')\n",
    "    axes[i//5, i %5].set_title(f\"target: {mnist.target[i]}\")\n",
    "    \n",
    "plt.tight_layout()"
   ]
  },
  {
   "cell_type": "code",
   "execution_count": 6,
   "metadata": {},
   "outputs": [],
   "source": [
    "# Data Splitting\n",
    "\n",
    "## Define X and y\n",
    "X=mnist.data\n",
    "y=mnist.target\n",
    "\n",
    "## Split data\n",
    "from sklearn.model_selection import train_test_split\n",
    "X_train, X_test, y_train, y_test = train_test_split(X, y, stratify=y, random_state=0)"
   ]
  },
  {
   "cell_type": "markdown",
   "metadata": {},
   "source": [
    "## Section A. Ensemble Methods\n",
    "In this part, we will first run some simple models, then apply ensemble methods to see the performance. You will need to train TWO simple models and THREE ensemble models. When defining the model function, please use different names (you will need to call these models again in the model evaluation part).\n",
    "\n",
    "\n",
    "### Question 1. Simple Models - Decision Tree (10 points)\n",
    "- Train a Decision Tree model. Set \"max_depth\" to 6, \"min_samples_split\" to 2, \"max_leaf_nodes\" to  10, and random_state to 0.\n",
    "- Report the training and test accuracy of the decision tree model."
   ]
  },
  {
   "cell_type": "code",
   "execution_count": 7,
   "metadata": {},
   "outputs": [
    {
     "name": "stdout",
     "output_type": "stream",
     "text": [
      "Test:  0.66\n",
      "Train:  0.6622123236822569\n"
     ]
    }
   ],
   "source": [
    "## YOUR CODE HERE (for Decision Tree Model)\n",
    "from sklearn.tree import DecisionTreeClassifier\n",
    "\n",
    "X_scaled_train, X_scaled_test, y_train, y_test=train_test_split(X_scaled, y, random_state=0)\n",
    "\n",
    "dec_tree = DecisionTreeClassifier(random_state = 0, max_depth = 6, min_samples_split = 2, max_leaf_nodes = 10)\n",
    "dec_tree.fit(X_train, y_train)\n",
    "\n",
    "print(\"Test: \", dec_tree.score(X_test, y_test))\n",
    "print(\"Train: \", dec_tree.score(X_train, y_train))"
   ]
  },
  {
   "cell_type": "markdown",
   "metadata": {},
   "source": [
    "### Question 2. Simple Models - Naive Bayes (10 points)\n",
    "- Choose the proper Naive Bayes model and train accordingly.  \n",
    "- Report the training and test accuracy of the naive bayes model."
   ]
  },
  {
   "cell_type": "code",
   "execution_count": 8,
   "metadata": {},
   "outputs": [
    {
     "name": "stdout",
     "output_type": "stream",
     "text": [
      "Test:  0.8355555555555556\n",
      "Train:  0.8478099480326652\n"
     ]
    }
   ],
   "source": [
    "# YOUR CODE HERE (for Naive Bayes Model)\n",
    "from sklearn.naive_bayes import GaussianNB\n",
    "\n",
    "g_nb = GaussianNB()\n",
    "g_nb.fit(X_train, y_train)\n",
    "\n",
    "print(\"Test: \", g_nb.score(X_test, y_test))\n",
    "print(\"Train: \", g_nb.score(X_train, y_train))"
   ]
  },
  {
   "cell_type": "markdown",
   "metadata": {},
   "source": [
    "### Question 3. Ensemble Methods - Random Forest (15 points)\n",
    "- Train a random forest model. Specifically, train 200 decision trees on 1000 resampled records. For each tree, keep specifications the same as those used in Question 1 (i.e., max_depth = 6, min_samples_split = 2, etc.)\n",
    "- What is the training and  test accuracy for the random forest?\n",
    "- Compare the performance (test accuracy) of random forest and decision tree. What do you find? Briefly discuss the difference between decision tree and random forest, and how the difference would influence model performance."
   ]
  },
  {
   "cell_type": "code",
   "execution_count": 9,
   "metadata": {},
   "outputs": [
    {
     "name": "stdout",
     "output_type": "stream",
     "text": [
      "Test:  0.9511111111111111\n",
      "Train:  0.9866369710467706\n"
     ]
    }
   ],
   "source": [
    "# YOUR CODE HERE\n",
    "from sklearn.ensemble import RandomForestClassifier\n",
    "\n",
    "rnd_clf = RandomForestClassifier(n_estimators=200, max_samples=1000, max_depth = 6, min_samples_split = 2, random_state=42)\n",
    "rnd_clf.fit(X_train, y_train)\n",
    "\n",
    "print(\"Test: \", rnd_clf.score(X_test, y_test))\n",
    "print(\"Train: \", rnd_clf.score(X_train, y_train))"
   ]
  },
  {
   "cell_type": "code",
   "execution_count": 1,
   "metadata": {},
   "outputs": [],
   "source": [
    "# YOUR DISCUSSION HERE\n",
    "# Random forest would combine multiple trees in order to reduce the number of errors. Decision trees have a lot of noise, thus impacting the nodes/leaves."
   ]
  },
  {
   "cell_type": "markdown",
   "metadata": {},
   "source": [
    "### Question 4. Ensemble Methods - AdaBoost (15 points)\n",
    "- Apply Gaussian Naive Bayes (with default settings, same as Q2) with AdaBoost. Run the Naive Bayes model 200 times. Let learning_rate = 0.3, and random_state = 0.\n",
    "- Report the test accuracy of the Naive Bayes model with AdaBoost.\n",
    "- Compare the performance (test accuracy) of naive bayes with and without adaboost. Briefly discuss the role of adaboost."
   ]
  },
  {
   "cell_type": "code",
   "execution_count": 10,
   "metadata": {},
   "outputs": [
    {
     "name": "stdout",
     "output_type": "stream",
     "text": [
      "Test:  0.7355555555555555\n",
      "Train:  0.7401633259094283\n"
     ]
    }
   ],
   "source": [
    "# YOUR CODE HERE\n",
    "from sklearn.ensemble import AdaBoostClassifier\n",
    "\n",
    "naive_dt = DecisionTreeClassifier(max_depth=1)\n",
    "ada_clf = AdaBoostClassifier(\n",
    "    naive_dt, n_estimators=200, learning_rate=0.3,\n",
    "    random_state=0)\n",
    "ada_clf.fit(X_train, y_train)\n",
    "\n",
    "print(\"Test: \", ada_clf.score(X_test, y_test))\n",
    "print(\"Train: \", ada_clf.score(X_train, y_train))"
   ]
  },
  {
   "cell_type": "code",
   "execution_count": 2,
   "metadata": {},
   "outputs": [],
   "source": [
    "# YOUR DISCUSSION HERE\n",
    "# Performance of Naive bayes was better without AdaBoost. AdaBoost helps build a model that gives equal weights to all data points."
   ]
  },
  {
   "cell_type": "markdown",
   "metadata": {},
   "source": [
    "## Section B. Clustering\n",
    "The MNIST dataset can also be used for clustering practice. This case, we are not classifying a digit to its corresponding label. Instead, we assume that no digit label is known, and we are simply clustering these pictures based on their similarity.\n",
    "\n",
    "\n",
    "### Question 5. Clustering Prep (10 points)\n",
    "We have learned two clustering methods, K-Means and DBSCAN. Both methods require scaling before applying the model. \n",
    "- Apply MinMax Scaling to our data so that the scaled data can be used for clustering algorithms. For result consistency, use sklearn package for minmax scaling. \n"
   ]
  },
  {
   "cell_type": "code",
   "execution_count": 19,
   "metadata": {},
   "outputs": [],
   "source": [
    "# YOUR CODE HERE\n",
    "from sklearn.preprocessing import MinMaxScaler\n",
    "minmax = MinMaxScaler(feature_range=(0,1))\n",
    "minmax.fit(X)\n",
    "X_scaled = minmax.transform(X)"
   ]
  },
  {
   "cell_type": "markdown",
   "metadata": {},
   "source": [
    "### Question 6. K-Means Clustering (10 points)\n",
    "- Apply K-Means, set k=10 (as we have already known there should be 10 digits), and random state = 0. Make sure you are using the scaled data.\n",
    "- Predict the cluster labels. Name the result (i.e., cluster labels) as \"labels\". "
   ]
  },
  {
   "cell_type": "code",
   "execution_count": 27,
   "metadata": {},
   "outputs": [
    {
     "name": "stdout",
     "output_type": "stream",
     "text": [
      "Labels: [2 1 1 ... 1 7 7]\n"
     ]
    }
   ],
   "source": [
    "# YOUR CODE HERE\n",
    "from sklearn.cluster import KMeans\n",
    "kmeans = KMeans(n_clusters=10, random_state = 0)\n",
    "kmeans.fit(X_scaled)\n",
    "\n",
    "labels = kmeans.predict(X_scaled)\n",
    "print(\"Labels:\", labels)\n"
   ]
  },
  {
   "cell_type": "markdown",
   "metadata": {},
   "source": [
    "### Question 7 DBSCAN (20 points)\n",
    "- Apply DBSCAN, set eps to 1 and min_samples to 5. Predict the cluster labels. Name the result as \"temp_clusters\". How many unique clusters do we have? \n",
    "- Apply DBSCAN again, let eps = 1.5 and min_samples = 5. Predict the cluster labels. Name the result as \"clusters\". How many unique clusters do we have now? \n",
    "- Compare the choice of eps and the number of clusters, briefly discuss the impact of eps on cluster number.\n",
    "- Given that there are 10 digits, which parameter choice would you choose? eps = 1 or eps = 1.5?"
   ]
  },
  {
   "cell_type": "code",
   "execution_count": 21,
   "metadata": {},
   "outputs": [
    {
     "name": "stdout",
     "output_type": "stream",
     "text": [
      "Temp Clusters: [ 0 -1 -1 ... -1 -1 -1]\n",
      "Unique Clusters: [-1  0  1  2  3  4  5  6  7  8  9 10 11 12 13 14 15 16 17 18 19 20 21 22\n",
      " 23 24 25]\n"
     ]
    }
   ],
   "source": [
    "# YOUR CODE HERE (DBSCAN with eps = 1)\n",
    "\n",
    "from sklearn.cluster import DBSCAN\n",
    "dbscan = DBSCAN(eps=1, min_samples=5)\n",
    "clusters = dbscan.fit_predict(X_scaled)\n",
    "print(\"Temp Clusters:\",clusters)\n",
    "print(\"Unique Clusters:\", np.unique(clusters))"
   ]
  },
  {
   "cell_type": "code",
   "execution_count": 22,
   "metadata": {},
   "outputs": [
    {
     "name": "stdout",
     "output_type": "stream",
     "text": [
      "Temp Clusters: [ 0  1 -1 ...  1  1 -1]\n",
      "Unique Clusters: [-1  0  1  2  3  4  5  6  7  8]\n"
     ]
    }
   ],
   "source": [
    "# YOUR CODE HERE (DBSCAN with eps = 1.5)\n",
    "from sklearn.cluster import DBSCAN\n",
    "dbscan = DBSCAN(eps=1.5, min_samples=5)\n",
    "clusters = dbscan.fit_predict(X_scaled)\n",
    "print(\"Temp Clusters:\",clusters)\n",
    "print(\"Unique Clusters:\", np.unique(clusters))"
   ]
  },
  {
   "cell_type": "code",
   "execution_count": 23,
   "metadata": {},
   "outputs": [],
   "source": [
    "# YOUR DISCUSSION HERE (Include the discussion for the last two problems here.)\n",
    "\n",
    "# Eps is the epsilon circle width. The minimum samples are the number of centers made inside of the circle. It specifies how close the points should be to each other to be a part of the cluster.\n",
    "# If there are 10 digits, the the parameter choice that will be chosen is eps = 1.5.\n"
   ]
  },
  {
   "cell_type": "markdown",
   "metadata": {},
   "source": [
    "### Question 8. Performance of Clustering (Open Question, 10 Points)\n",
    "Clustering is an unsupervised learning method and does not have a \"ground truth\" (i.e., the cluster label of each example). Thus, it is difficult to show the performance of clustering results. \n",
    "\n",
    "When working with pictures, one way to provide some evidence of clustering performance is to show some pictures within each cluster, and see if the clustering result makes sense. \n",
    "\n",
    "- The cell below plots 5 pictures for each cluster (kmeans clustering). Run the cell below to generate the plot. (Double check Q6 - the clustering result should be under the name \"labels\".)\n",
    "- Discuss briefly about the clustering result. Does the method work well in this case? (Open Question)"
   ]
  },
  {
   "cell_type": "code",
   "execution_count": 28,
   "metadata": {},
   "outputs": [
    {
     "data": {
      "image/png": "[encoded data removed]",
      "text/plain": [
       "<Figure size 720x720 with 5 Axes>"
      ]
     },
     "metadata": {
      "needs_background": "light"
     },
     "output_type": "display_data"
    },
    {
     "data": {
      "image/png": "[encoded data removed]",
      "text/plain": [
       "<Figure size 720x720 with 5 Axes>"
      ]
     },
     "metadata": {
      "needs_background": "light"
     },
     "output_type": "display_data"
    },
    {
     "data": {
      "image/png": "[encoded data removed]",
      "text/plain": [
       "<Figure size 720x720 with 5 Axes>"
      ]
     },
     "metadata": {
      "needs_background": "light"
     },
     "output_type": "display_data"
    },
    {
     "data": {
      "image/png": "[encoded data removed]",
      "text/plain": [
       "<Figure size 720x720 with 5 Axes>"
      ]
     },
     "metadata": {
      "needs_background": "light"
     },
     "output_type": "display_data"
    },
    {
     "data": {
      "image/png": "[encoded data removed]",
      "text/plain": [
       "<Figure size 720x720 with 5 Axes>"
      ]
     },
     "metadata": {
      "needs_background": "light"
     },
     "output_type": "display_data"
    },
    {
     "data": {
      "image/png": "[encoded data removed]",
      "text/plain": [
       "<Figure size 720x720 with 5 Axes>"
      ]
     },
     "metadata": {
      "needs_background": "light"
     },
     "output_type": "display_data"
    },
    {
     "data": {
      "image/png": "[encoded data removed]",
      "text/plain": [
       "<Figure size 720x720 with 5 Axes>"
      ]
     },
     "metadata": {
      "needs_background": "light"
     },
     "output_type": "display_data"
    },
    {
     "data": {
      "image/png": "[encoded data removed]",
      "text/plain": [
       "<Figure size 720x720 with 5 Axes>"
      ]
     },
     "metadata": {
      "needs_background": "light"
     },
     "output_type": "display_data"
    },
    {
     "data": {
      "image/png": "[encoded data removed]",
      "text/plain": [
       "<Figure size 720x720 with 5 Axes>"
      ]
     },
     "metadata": {
      "needs_background": "light"
     },
     "output_type": "display_data"
    },
    {
     "data": {
      "image/png": "[encoded data removed]",
      "text/plain": [
       "<Figure size 720x720 with 5 Axes>"
      ]
     },
     "metadata": {
      "needs_background": "light"
     },
     "output_type": "display_data"
    }
   ],
   "source": [
    "# RUN THIS CELL TO GET FIGURE\n",
    "def draw_digit(data, row, col, n):\n",
    "    plt.subplot(row, col, n)    \n",
    "    plt.imshow(data)\n",
    "    plt.gray()\n",
    "\n",
    "for nb in range(10):\n",
    "    show_size = 5\n",
    "    plt.figure(figsize=(10,10))\n",
    "    count = 0\n",
    "\n",
    "    for i in range(mnist.images.shape[0]):\n",
    "        if count < show_size and labels[i] == nb:\n",
    "            draw_digit(mnist.images[i].reshape(8,8), 1, show_size, count+1)\n",
    "            count += 1\n",
    "    plt.show()"
   ]
  },
  {
   "cell_type": "code",
   "execution_count": 29,
   "metadata": {},
   "outputs": [],
   "source": [
    "# YOUR DISCUSSION HERE\n",
    "# KMeans clusters seems to be working well for this scenario as it helps visualize the digits slightly better."
   ]
  },
  {
   "cell_type": "code",
   "execution_count": null,
   "metadata": {},
   "outputs": [],
   "source": []
  }
 ],
 "metadata": {
  "kernelspec": {
   "display_name": "Python 3",
   "language": "python",
   "name": "python3"
  },
  "language_info": {
   "codemirror_mode": {
    "name": "ipython",
    "version": 3
   },
   "file_extension": ".py",
   "mimetype": "text/x-python",
   "name": "python",
   "nbconvert_exporter": "python",
   "pygments_lexer": "ipython3",
   "version": "3.8.5"
  }
 },
 "nbformat": 4,
 "nbformat_minor": 2
}
